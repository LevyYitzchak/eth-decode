{
 "cells": [
  {
   "cell_type": "code",
   "execution_count": 1,
   "source": [
    "from abi import Abi\r\n",
    "import pandas as pd\r\n",
    "from _const import * # paths \r\n",
    "from _func import * # lambdas"
   ],
   "outputs": [],
   "metadata": {}
  },
  {
   "cell_type": "code",
   "execution_count": 3,
   "source": [
    "abi_obj = Abi(PATHS.ABIS.ls()[0])"
   ],
   "outputs": [],
   "metadata": {}
  },
  {
   "cell_type": "code",
   "execution_count": 4,
   "source": [
    "df_events = abi_obj.create_events_df()"
   ],
   "outputs": [],
   "metadata": {}
  },
  {
   "cell_type": "code",
   "execution_count": 5,
   "source": [
    "df_events.info()"
   ],
   "outputs": [
    {
     "output_type": "stream",
     "name": "stdout",
     "text": [
      "<class 'pandas.core.frame.DataFrame'>\n",
      "Int64Index: 16 entries, 1 to 16\n",
      "Data columns (total 8 columns):\n",
      " #   Column        Non-Null Count  Dtype \n",
      "---  ------        --------------  ----- \n",
      " 0   name          16 non-null     object\n",
      " 1   types         16 non-null     object\n",
      " 2   names         16 non-null     object\n",
      " 3   indexed       16 non-null     object\n",
      " 4   types_data    16 non-null     object\n",
      " 5   types_topics  16 non-null     object\n",
      " 6   signature     16 non-null     object\n",
      " 7   hash          16 non-null     object\n",
      "dtypes: object(8)\n",
      "memory usage: 1.1+ KB\n"
     ]
    }
   ],
   "metadata": {}
  },
  {
   "cell_type": "code",
   "execution_count": 6,
   "source": [
    "types_data_list = []\r\n",
    "types_topics_list = []\r\n",
    "\r\n",
    "for _, x in df_events.iterrows():\r\n",
    "    tmp_list = list(zip(x['types'], x['indexed']))\r\n",
    "    types_topics = []\r\n",
    "    types_data = []\r\n",
    "    for arg_type, indexed in tmp_list:    \r\n",
    "        if indexed:\r\n",
    "            types_topics.append(arg_type)\r\n",
    "        else:\r\n",
    "            types_data.append(arg_type)\r\n",
    "\r\n",
    "    if not types_topics: types_topics = None\r\n",
    "    if not types_data: types_data = None\r\n",
    "    types_topics_list.append(types_topics)\r\n",
    "    types_data_list.append(types_data)\r\n",
    "\r\n",
    "df_events['types_topics'] = types_topics_list\r\n",
    "df_events['types_data'] = types_data_list\r\n",
    "\r\n"
   ],
   "outputs": [],
   "metadata": {}
  },
  {
   "cell_type": "code",
   "execution_count": 7,
   "source": [
    "[(t, i) for t, i in zip(x['types'], x['indexed']) if i]"
   ],
   "outputs": [
    {
     "output_type": "execute_result",
     "data": {
      "text/plain": [
       "[('address', True)]"
      ]
     },
     "metadata": {},
     "execution_count": 7
    }
   ],
   "metadata": {}
  },
  {
   "cell_type": "code",
   "execution_count": 8,
   "source": [
    "import uuid\r\n",
    "str(uuid.uuid4())\r\n"
   ],
   "outputs": [
    {
     "output_type": "execute_result",
     "data": {
      "text/plain": [
       "'30722a60-16a0-4069-88e3-ed500cb7ffc0'"
      ]
     },
     "metadata": {},
     "execution_count": 8
    }
   ],
   "metadata": {}
  },
  {
   "cell_type": "code",
   "execution_count": 9,
   "source": [
    "[{'name': name, 'job': job, 'status': status} for name,job,status in zip(names,jobs,statuses)]\r\n"
   ],
   "outputs": [
    {
     "output_type": "error",
     "ename": "NameError",
     "evalue": "name 'names' is not defined",
     "traceback": [
      "\u001b[1;31m---------------------------------------------------------------------------\u001b[0m",
      "\u001b[1;31mNameError\u001b[0m                                 Traceback (most recent call last)",
      "\u001b[1;32m<ipython-input-9-f1253da666db>\u001b[0m in \u001b[0;36m<module>\u001b[1;34m\u001b[0m\n\u001b[1;32m----> 1\u001b[1;33m \u001b[1;33m[\u001b[0m\u001b[1;33m{\u001b[0m\u001b[1;34m'name'\u001b[0m\u001b[1;33m:\u001b[0m \u001b[0mname\u001b[0m\u001b[1;33m,\u001b[0m \u001b[1;34m'job'\u001b[0m\u001b[1;33m:\u001b[0m \u001b[0mjob\u001b[0m\u001b[1;33m,\u001b[0m \u001b[1;34m'status'\u001b[0m\u001b[1;33m:\u001b[0m \u001b[0mstatus\u001b[0m\u001b[1;33m}\u001b[0m \u001b[1;32mfor\u001b[0m \u001b[0mname\u001b[0m\u001b[1;33m,\u001b[0m\u001b[0mjob\u001b[0m\u001b[1;33m,\u001b[0m\u001b[0mstatus\u001b[0m \u001b[1;32min\u001b[0m \u001b[0mzip\u001b[0m\u001b[1;33m(\u001b[0m\u001b[0mnames\u001b[0m\u001b[1;33m,\u001b[0m\u001b[0mjobs\u001b[0m\u001b[1;33m,\u001b[0m\u001b[0mstatuses\u001b[0m\u001b[1;33m)\u001b[0m\u001b[1;33m]\u001b[0m\u001b[1;33m\u001b[0m\u001b[1;33m\u001b[0m\u001b[0m\n\u001b[0m",
      "\u001b[1;31mNameError\u001b[0m: name 'names' is not defined"
     ]
    }
   ],
   "metadata": {}
  },
  {
   "cell_type": "code",
   "execution_count": 10,
   "source": [
    "df_events.head()"
   ],
   "outputs": [
    {
     "output_type": "execute_result",
     "data": {
      "text/plain": [
       "                            name                                 types  \\\n",
       "1              GuardianActivated            [address, uint64, uint256]   \n",
       "2  GuardianActivationLockChanged  [address, address, uint256, uint256]   \n",
       "3          GuardianBalanceLocked                    [address, uint256]   \n",
       "4        GuardianBalanceUnlocked                    [address, uint256]   \n",
       "5  GuardianDeactivationProcessed    [address, uint64, uint256, uint64]   \n",
       "\n",
       "                                               names  \\\n",
       "1                     [guardian, fromTermId, amount]   \n",
       "2             [guardian, lockManager, amount, total]   \n",
       "3                                 [guardian, amount]   \n",
       "4                                 [guardian, amount]   \n",
       "5  [guardian, availableTermId, amount, processedT...   \n",
       "\n",
       "                       indexed                 types_data        types_topics  \\\n",
       "1         [True, False, False]          [uint64, uint256]           [address]   \n",
       "2   [True, True, False, False]         [uint256, uint256]  [address, address]   \n",
       "3                [True, False]                  [uint256]           [address]   \n",
       "4                [True, False]                  [uint256]           [address]   \n",
       "5  [True, False, False, False]  [uint64, uint256, uint64]           [address]   \n",
       "\n",
       "                                           signature  \\\n",
       "1          GuardianActivated(address,uint64,uint256)   \n",
       "2  GuardianActivationLockChanged(address,address,...   \n",
       "3             GuardianBalanceLocked(address,uint256)   \n",
       "4           GuardianBalanceUnlocked(address,uint256)   \n",
       "5  GuardianDeactivationProcessed(address,uint64,u...   \n",
       "\n",
       "                                                hash  \n",
       "1  0x3bb1ff40e32fd6b2e3b81f6a7441852a5c72ec25d116...  \n",
       "2  0xb754cf0e7e51fa0b0a5ed45913a6da3e3aa291da6250...  \n",
       "3  0xc3d70b7809835f6deb56c03ebabf6aecdf78e9b4da7c...  \n",
       "4  0x389bab47d019f9160c099e9beca71df98fb81c079bfb...  \n",
       "5  0xb7ae268c06bce2729709d55ad102f434a28f71877bfa...  "
      ],
      "text/html": [
       "<div>\n",
       "<style scoped>\n",
       "    .dataframe tbody tr th:only-of-type {\n",
       "        vertical-align: middle;\n",
       "    }\n",
       "\n",
       "    .dataframe tbody tr th {\n",
       "        vertical-align: top;\n",
       "    }\n",
       "\n",
       "    .dataframe thead th {\n",
       "        text-align: right;\n",
       "    }\n",
       "</style>\n",
       "<table border=\"1\" class=\"dataframe\">\n",
       "  <thead>\n",
       "    <tr style=\"text-align: right;\">\n",
       "      <th></th>\n",
       "      <th>name</th>\n",
       "      <th>types</th>\n",
       "      <th>names</th>\n",
       "      <th>indexed</th>\n",
       "      <th>types_data</th>\n",
       "      <th>types_topics</th>\n",
       "      <th>signature</th>\n",
       "      <th>hash</th>\n",
       "    </tr>\n",
       "  </thead>\n",
       "  <tbody>\n",
       "    <tr>\n",
       "      <th>1</th>\n",
       "      <td>GuardianActivated</td>\n",
       "      <td>[address, uint64, uint256]</td>\n",
       "      <td>[guardian, fromTermId, amount]</td>\n",
       "      <td>[True, False, False]</td>\n",
       "      <td>[uint64, uint256]</td>\n",
       "      <td>[address]</td>\n",
       "      <td>GuardianActivated(address,uint64,uint256)</td>\n",
       "      <td>0x3bb1ff40e32fd6b2e3b81f6a7441852a5c72ec25d116...</td>\n",
       "    </tr>\n",
       "    <tr>\n",
       "      <th>2</th>\n",
       "      <td>GuardianActivationLockChanged</td>\n",
       "      <td>[address, address, uint256, uint256]</td>\n",
       "      <td>[guardian, lockManager, amount, total]</td>\n",
       "      <td>[True, True, False, False]</td>\n",
       "      <td>[uint256, uint256]</td>\n",
       "      <td>[address, address]</td>\n",
       "      <td>GuardianActivationLockChanged(address,address,...</td>\n",
       "      <td>0xb754cf0e7e51fa0b0a5ed45913a6da3e3aa291da6250...</td>\n",
       "    </tr>\n",
       "    <tr>\n",
       "      <th>3</th>\n",
       "      <td>GuardianBalanceLocked</td>\n",
       "      <td>[address, uint256]</td>\n",
       "      <td>[guardian, amount]</td>\n",
       "      <td>[True, False]</td>\n",
       "      <td>[uint256]</td>\n",
       "      <td>[address]</td>\n",
       "      <td>GuardianBalanceLocked(address,uint256)</td>\n",
       "      <td>0xc3d70b7809835f6deb56c03ebabf6aecdf78e9b4da7c...</td>\n",
       "    </tr>\n",
       "    <tr>\n",
       "      <th>4</th>\n",
       "      <td>GuardianBalanceUnlocked</td>\n",
       "      <td>[address, uint256]</td>\n",
       "      <td>[guardian, amount]</td>\n",
       "      <td>[True, False]</td>\n",
       "      <td>[uint256]</td>\n",
       "      <td>[address]</td>\n",
       "      <td>GuardianBalanceUnlocked(address,uint256)</td>\n",
       "      <td>0x389bab47d019f9160c099e9beca71df98fb81c079bfb...</td>\n",
       "    </tr>\n",
       "    <tr>\n",
       "      <th>5</th>\n",
       "      <td>GuardianDeactivationProcessed</td>\n",
       "      <td>[address, uint64, uint256, uint64]</td>\n",
       "      <td>[guardian, availableTermId, amount, processedT...</td>\n",
       "      <td>[True, False, False, False]</td>\n",
       "      <td>[uint64, uint256, uint64]</td>\n",
       "      <td>[address]</td>\n",
       "      <td>GuardianDeactivationProcessed(address,uint64,u...</td>\n",
       "      <td>0xb7ae268c06bce2729709d55ad102f434a28f71877bfa...</td>\n",
       "    </tr>\n",
       "  </tbody>\n",
       "</table>\n",
       "</div>"
      ]
     },
     "metadata": {},
     "execution_count": 10
    }
   ],
   "metadata": {}
  },
  {
   "cell_type": "code",
   "execution_count": 11,
   "source": [
    "from bq import get_logs\r\n",
    "df_logs = get_logs(address=[ADDRESS_COURT], func_sign=[FUNC_SIGN_GUARDIANS_ACTIVATED])"
   ],
   "outputs": [
    {
     "output_type": "stream",
     "name": "stdout",
     "text": [
      "\n",
      "            SELECT * \n",
      "            FROM `bigquery-public-data.crypto_ethereum.logs`, \n",
      "            UNNEST(topics) t \n",
      "            WHERE \n",
      "            t in (  \"0x3bb1ff40e32fd6b2e3b81f6a7441852a5c72ec25d116b141b1a1a2e8f0404095\"   )\n",
      "            AND address in ( \"0xab647b8fd9e370448d4eeb96582fe839f3d0bb24\" ) \n",
      "            AND DATE(block_timestamp) >= \"2020-01-01\"\n",
      "            LIMIT 100\n"
     ]
    }
   ],
   "metadata": {}
  },
  {
   "cell_type": "code",
   "execution_count": 12,
   "source": [
    "df_logs = df_logs.merge(df_events, left_on='t', right_on='hash')"
   ],
   "outputs": [],
   "metadata": {}
  },
  {
   "cell_type": "code",
   "execution_count": 13,
   "source": [
    "df_logs.head()"
   ],
   "outputs": [
    {
     "output_type": "execute_result",
     "data": {
      "text/plain": [
       "   log_index                                   transaction_hash  \\\n",
       "0         23  0x565b4c7f5ebbd34fd01f2f5cc14be2bf53da40d462c5...   \n",
       "1         98  0xc9ab1615adfa17096e4e0f43313c440161dd51cd3f5a...   \n",
       "2         78  0x641eafbb096b43b07fde84a10674284733a905c4a0e5...   \n",
       "3        195  0x630418a3b2d4f169e8fc5e4e62b70318ef7db2fb3702...   \n",
       "4        228  0xd93aeb016de82e883e2011453be55664895f631f4ab1...   \n",
       "\n",
       "   transaction_index                                     address  \\\n",
       "0                 23  0xab647b8fd9e370448d4eeb96582fe839f3d0bb24   \n",
       "1                 58  0xab647b8fd9e370448d4eeb96582fe839f3d0bb24   \n",
       "2                 93  0xab647b8fd9e370448d4eeb96582fe839f3d0bb24   \n",
       "3                169  0xab647b8fd9e370448d4eeb96582fe839f3d0bb24   \n",
       "4                 98  0xab647b8fd9e370448d4eeb96582fe839f3d0bb24   \n",
       "\n",
       "                                                data  \\\n",
       "0  0x00000000000000000000000000000000000000000000...   \n",
       "1  0x00000000000000000000000000000000000000000000...   \n",
       "2  0x00000000000000000000000000000000000000000000...   \n",
       "3  0x00000000000000000000000000000000000000000000...   \n",
       "4  0x00000000000000000000000000000000000000000000...   \n",
       "\n",
       "                                              topics  \\\n",
       "0  [0x3bb1ff40e32fd6b2e3b81f6a7441852a5c72ec25d11...   \n",
       "1  [0x3bb1ff40e32fd6b2e3b81f6a7441852a5c72ec25d11...   \n",
       "2  [0x3bb1ff40e32fd6b2e3b81f6a7441852a5c72ec25d11...   \n",
       "3  [0x3bb1ff40e32fd6b2e3b81f6a7441852a5c72ec25d11...   \n",
       "4  [0x3bb1ff40e32fd6b2e3b81f6a7441852a5c72ec25d11...   \n",
       "\n",
       "            block_timestamp  block_number  \\\n",
       "0 2021-08-16 15:06:40+00:00      13036962   \n",
       "1 2021-08-16 11:13:22+00:00      13035919   \n",
       "2 2021-08-16 11:07:44+00:00      13035895   \n",
       "3 2021-08-16 03:05:29+00:00      13033734   \n",
       "4 2021-08-16 00:42:14+00:00      13033076   \n",
       "\n",
       "                                          block_hash  \\\n",
       "0  0x4c5bb972cbc574313868ba8b14e93cb75ae36b64ea0e...   \n",
       "1  0xb3ef0bbcda2f335de07bd590a2996cd6214a6e1bc101...   \n",
       "2  0x36094a0f1625580a6c147a44efd3413d6515c6b4d94b...   \n",
       "3  0xef219c226e69d5791493cc2a49237ca7f906e3a0ec2d...   \n",
       "4  0x93555318ca344fe8f2c9f6a20fb14c47ebc835dc3b61...   \n",
       "\n",
       "                                                   t               name  \\\n",
       "0  0x3bb1ff40e32fd6b2e3b81f6a7441852a5c72ec25d116...  GuardianActivated   \n",
       "1  0x3bb1ff40e32fd6b2e3b81f6a7441852a5c72ec25d116...  GuardianActivated   \n",
       "2  0x3bb1ff40e32fd6b2e3b81f6a7441852a5c72ec25d116...  GuardianActivated   \n",
       "3  0x3bb1ff40e32fd6b2e3b81f6a7441852a5c72ec25d116...  GuardianActivated   \n",
       "4  0x3bb1ff40e32fd6b2e3b81f6a7441852a5c72ec25d116...  GuardianActivated   \n",
       "\n",
       "                        types                           names  \\\n",
       "0  [address, uint64, uint256]  [guardian, fromTermId, amount]   \n",
       "1  [address, uint64, uint256]  [guardian, fromTermId, amount]   \n",
       "2  [address, uint64, uint256]  [guardian, fromTermId, amount]   \n",
       "3  [address, uint64, uint256]  [guardian, fromTermId, amount]   \n",
       "4  [address, uint64, uint256]  [guardian, fromTermId, amount]   \n",
       "\n",
       "                indexed         types_data types_topics  \\\n",
       "0  [True, False, False]  [uint64, uint256]    [address]   \n",
       "1  [True, False, False]  [uint64, uint256]    [address]   \n",
       "2  [True, False, False]  [uint64, uint256]    [address]   \n",
       "3  [True, False, False]  [uint64, uint256]    [address]   \n",
       "4  [True, False, False]  [uint64, uint256]    [address]   \n",
       "\n",
       "                                   signature  \\\n",
       "0  GuardianActivated(address,uint64,uint256)   \n",
       "1  GuardianActivated(address,uint64,uint256)   \n",
       "2  GuardianActivated(address,uint64,uint256)   \n",
       "3  GuardianActivated(address,uint64,uint256)   \n",
       "4  GuardianActivated(address,uint64,uint256)   \n",
       "\n",
       "                                                hash  \n",
       "0  0x3bb1ff40e32fd6b2e3b81f6a7441852a5c72ec25d116...  \n",
       "1  0x3bb1ff40e32fd6b2e3b81f6a7441852a5c72ec25d116...  \n",
       "2  0x3bb1ff40e32fd6b2e3b81f6a7441852a5c72ec25d116...  \n",
       "3  0x3bb1ff40e32fd6b2e3b81f6a7441852a5c72ec25d116...  \n",
       "4  0x3bb1ff40e32fd6b2e3b81f6a7441852a5c72ec25d116...  "
      ],
      "text/html": [
       "<div>\n",
       "<style scoped>\n",
       "    .dataframe tbody tr th:only-of-type {\n",
       "        vertical-align: middle;\n",
       "    }\n",
       "\n",
       "    .dataframe tbody tr th {\n",
       "        vertical-align: top;\n",
       "    }\n",
       "\n",
       "    .dataframe thead th {\n",
       "        text-align: right;\n",
       "    }\n",
       "</style>\n",
       "<table border=\"1\" class=\"dataframe\">\n",
       "  <thead>\n",
       "    <tr style=\"text-align: right;\">\n",
       "      <th></th>\n",
       "      <th>log_index</th>\n",
       "      <th>transaction_hash</th>\n",
       "      <th>transaction_index</th>\n",
       "      <th>address</th>\n",
       "      <th>data</th>\n",
       "      <th>topics</th>\n",
       "      <th>block_timestamp</th>\n",
       "      <th>block_number</th>\n",
       "      <th>block_hash</th>\n",
       "      <th>t</th>\n",
       "      <th>name</th>\n",
       "      <th>types</th>\n",
       "      <th>names</th>\n",
       "      <th>indexed</th>\n",
       "      <th>types_data</th>\n",
       "      <th>types_topics</th>\n",
       "      <th>signature</th>\n",
       "      <th>hash</th>\n",
       "    </tr>\n",
       "  </thead>\n",
       "  <tbody>\n",
       "    <tr>\n",
       "      <th>0</th>\n",
       "      <td>23</td>\n",
       "      <td>0x565b4c7f5ebbd34fd01f2f5cc14be2bf53da40d462c5...</td>\n",
       "      <td>23</td>\n",
       "      <td>0xab647b8fd9e370448d4eeb96582fe839f3d0bb24</td>\n",
       "      <td>0x00000000000000000000000000000000000000000000...</td>\n",
       "      <td>[0x3bb1ff40e32fd6b2e3b81f6a7441852a5c72ec25d11...</td>\n",
       "      <td>2021-08-16 15:06:40+00:00</td>\n",
       "      <td>13036962</td>\n",
       "      <td>0x4c5bb972cbc574313868ba8b14e93cb75ae36b64ea0e...</td>\n",
       "      <td>0x3bb1ff40e32fd6b2e3b81f6a7441852a5c72ec25d116...</td>\n",
       "      <td>GuardianActivated</td>\n",
       "      <td>[address, uint64, uint256]</td>\n",
       "      <td>[guardian, fromTermId, amount]</td>\n",
       "      <td>[True, False, False]</td>\n",
       "      <td>[uint64, uint256]</td>\n",
       "      <td>[address]</td>\n",
       "      <td>GuardianActivated(address,uint64,uint256)</td>\n",
       "      <td>0x3bb1ff40e32fd6b2e3b81f6a7441852a5c72ec25d116...</td>\n",
       "    </tr>\n",
       "    <tr>\n",
       "      <th>1</th>\n",
       "      <td>98</td>\n",
       "      <td>0xc9ab1615adfa17096e4e0f43313c440161dd51cd3f5a...</td>\n",
       "      <td>58</td>\n",
       "      <td>0xab647b8fd9e370448d4eeb96582fe839f3d0bb24</td>\n",
       "      <td>0x00000000000000000000000000000000000000000000...</td>\n",
       "      <td>[0x3bb1ff40e32fd6b2e3b81f6a7441852a5c72ec25d11...</td>\n",
       "      <td>2021-08-16 11:13:22+00:00</td>\n",
       "      <td>13035919</td>\n",
       "      <td>0xb3ef0bbcda2f335de07bd590a2996cd6214a6e1bc101...</td>\n",
       "      <td>0x3bb1ff40e32fd6b2e3b81f6a7441852a5c72ec25d116...</td>\n",
       "      <td>GuardianActivated</td>\n",
       "      <td>[address, uint64, uint256]</td>\n",
       "      <td>[guardian, fromTermId, amount]</td>\n",
       "      <td>[True, False, False]</td>\n",
       "      <td>[uint64, uint256]</td>\n",
       "      <td>[address]</td>\n",
       "      <td>GuardianActivated(address,uint64,uint256)</td>\n",
       "      <td>0x3bb1ff40e32fd6b2e3b81f6a7441852a5c72ec25d116...</td>\n",
       "    </tr>\n",
       "    <tr>\n",
       "      <th>2</th>\n",
       "      <td>78</td>\n",
       "      <td>0x641eafbb096b43b07fde84a10674284733a905c4a0e5...</td>\n",
       "      <td>93</td>\n",
       "      <td>0xab647b8fd9e370448d4eeb96582fe839f3d0bb24</td>\n",
       "      <td>0x00000000000000000000000000000000000000000000...</td>\n",
       "      <td>[0x3bb1ff40e32fd6b2e3b81f6a7441852a5c72ec25d11...</td>\n",
       "      <td>2021-08-16 11:07:44+00:00</td>\n",
       "      <td>13035895</td>\n",
       "      <td>0x36094a0f1625580a6c147a44efd3413d6515c6b4d94b...</td>\n",
       "      <td>0x3bb1ff40e32fd6b2e3b81f6a7441852a5c72ec25d116...</td>\n",
       "      <td>GuardianActivated</td>\n",
       "      <td>[address, uint64, uint256]</td>\n",
       "      <td>[guardian, fromTermId, amount]</td>\n",
       "      <td>[True, False, False]</td>\n",
       "      <td>[uint64, uint256]</td>\n",
       "      <td>[address]</td>\n",
       "      <td>GuardianActivated(address,uint64,uint256)</td>\n",
       "      <td>0x3bb1ff40e32fd6b2e3b81f6a7441852a5c72ec25d116...</td>\n",
       "    </tr>\n",
       "    <tr>\n",
       "      <th>3</th>\n",
       "      <td>195</td>\n",
       "      <td>0x630418a3b2d4f169e8fc5e4e62b70318ef7db2fb3702...</td>\n",
       "      <td>169</td>\n",
       "      <td>0xab647b8fd9e370448d4eeb96582fe839f3d0bb24</td>\n",
       "      <td>0x00000000000000000000000000000000000000000000...</td>\n",
       "      <td>[0x3bb1ff40e32fd6b2e3b81f6a7441852a5c72ec25d11...</td>\n",
       "      <td>2021-08-16 03:05:29+00:00</td>\n",
       "      <td>13033734</td>\n",
       "      <td>0xef219c226e69d5791493cc2a49237ca7f906e3a0ec2d...</td>\n",
       "      <td>0x3bb1ff40e32fd6b2e3b81f6a7441852a5c72ec25d116...</td>\n",
       "      <td>GuardianActivated</td>\n",
       "      <td>[address, uint64, uint256]</td>\n",
       "      <td>[guardian, fromTermId, amount]</td>\n",
       "      <td>[True, False, False]</td>\n",
       "      <td>[uint64, uint256]</td>\n",
       "      <td>[address]</td>\n",
       "      <td>GuardianActivated(address,uint64,uint256)</td>\n",
       "      <td>0x3bb1ff40e32fd6b2e3b81f6a7441852a5c72ec25d116...</td>\n",
       "    </tr>\n",
       "    <tr>\n",
       "      <th>4</th>\n",
       "      <td>228</td>\n",
       "      <td>0xd93aeb016de82e883e2011453be55664895f631f4ab1...</td>\n",
       "      <td>98</td>\n",
       "      <td>0xab647b8fd9e370448d4eeb96582fe839f3d0bb24</td>\n",
       "      <td>0x00000000000000000000000000000000000000000000...</td>\n",
       "      <td>[0x3bb1ff40e32fd6b2e3b81f6a7441852a5c72ec25d11...</td>\n",
       "      <td>2021-08-16 00:42:14+00:00</td>\n",
       "      <td>13033076</td>\n",
       "      <td>0x93555318ca344fe8f2c9f6a20fb14c47ebc835dc3b61...</td>\n",
       "      <td>0x3bb1ff40e32fd6b2e3b81f6a7441852a5c72ec25d116...</td>\n",
       "      <td>GuardianActivated</td>\n",
       "      <td>[address, uint64, uint256]</td>\n",
       "      <td>[guardian, fromTermId, amount]</td>\n",
       "      <td>[True, False, False]</td>\n",
       "      <td>[uint64, uint256]</td>\n",
       "      <td>[address]</td>\n",
       "      <td>GuardianActivated(address,uint64,uint256)</td>\n",
       "      <td>0x3bb1ff40e32fd6b2e3b81f6a7441852a5c72ec25d116...</td>\n",
       "    </tr>\n",
       "  </tbody>\n",
       "</table>\n",
       "</div>"
      ]
     },
     "metadata": {},
     "execution_count": 13
    }
   ],
   "metadata": {}
  },
  {
   "cell_type": "code",
   "execution_count": 14,
   "source": [
    "def decodee(x):\r\n",
    "    try:\r\n",
    "        return decode_abi(x['types_data'], str.encode(x['data']))\r\n",
    "    except Exception as e:\r\n",
    "        return e"
   ],
   "outputs": [],
   "metadata": {}
  },
  {
   "cell_type": "code",
   "execution_count": 15,
   "source": [
    "from eth_utils import decode_hex\r\n",
    "\r\n",
    "\r\n",
    "lambda_decode_data = lambda x: decode_abi(x['types_data'], decode_hex(x['data']))\r\n",
    "df_logs.apply(decodee, axis=1).value_counts()"
   ],
   "outputs": [
    {
     "output_type": "execute_result",
     "data": {
      "text/plain": [
       "Padding bytes were not empty: b'0x0000000000000000000000'    1\n",
       "Padding bytes were not empty: b'0x0000000000000000000000'    1\n",
       "Padding bytes were not empty: b'0x0000000000000000000000'    1\n",
       "Padding bytes were not empty: b'0x0000000000000000000000'    1\n",
       "Padding bytes were not empty: b'0x0000000000000000000000'    1\n",
       "                                                            ..\n",
       "Padding bytes were not empty: b'0x0000000000000000000000'    1\n",
       "Padding bytes were not empty: b'0x0000000000000000000000'    1\n",
       "Padding bytes were not empty: b'0x0000000000000000000000'    1\n",
       "Padding bytes were not empty: b'0x0000000000000000000000'    1\n",
       "Padding bytes were not empty: b'0x0000000000000000000000'    1\n",
       "Length: 100, dtype: int64"
      ]
     },
     "metadata": {},
     "execution_count": 15
    }
   ],
   "metadata": {}
  },
  {
   "cell_type": "code",
   "execution_count": 17,
   "source": [
    "from google.cloud import bigquery\r\n",
    "big_query_client = bigquery.Client()\r\n",
    "\r\n",
    "table_ref = big_query_client.dataset('base_information').table('test')\r\n",
    "table = big_query_client.get_table(table_ref)  # API request"
   ],
   "outputs": [],
   "metadata": {}
  },
  {
   "cell_type": "code",
   "execution_count": 18,
   "source": [
    "table.schema"
   ],
   "outputs": [
    {
     "output_type": "execute_result",
     "data": {
      "text/plain": [
       "[SchemaField('id', 'STRING', 'NULLABLE', None, (), ())]"
      ]
     },
     "metadata": {},
     "execution_count": 18
    }
   ],
   "metadata": {}
  },
  {
   "cell_type": "code",
   "execution_count": 95,
   "source": [
    "a = big_query_client.insert_rows(table, [{'id':1, 'time':2}])"
   ],
   "outputs": [],
   "metadata": {}
  },
  {
   "cell_type": "code",
   "execution_count": 97,
   "source": [
    "type(a)"
   ],
   "outputs": [
    {
     "output_type": "execute_result",
     "data": {
      "text/plain": [
       "list"
      ]
     },
     "metadata": {},
     "execution_count": 97
    }
   ],
   "metadata": {}
  },
  {
   "cell_type": "code",
   "execution_count": null,
   "source": [],
   "outputs": [],
   "metadata": {}
  },
  {
   "cell_type": "code",
   "execution_count": 99,
   "source": [
    "import requests\r\n",
    "\r\n",
    "URL = 'https://api.thegraph.com/subgraphs/name/aragon/aragon-court-v2-mainnet'\r\n",
    "\r\n",
    "r = requests.get(URL)\r\n",
    "\r\n",
    "print(r)"
   ],
   "outputs": [
    {
     "output_type": "stream",
     "name": "stdout",
     "text": [
      "<Response [200]>\n"
     ]
    }
   ],
   "metadata": {}
  },
  {
   "cell_type": "code",
   "execution_count": 127,
   "source": [
    "\r\n",
    "query = \"\"\"{\r\n",
    "  courts(first: 5) {\r\n",
    "    id\r\n",
    "    token {\r\n",
    "      id\r\n",
    "    }\r\n",
    "    currentTerm\r\n",
    "    termDuration\r\n",
    "  }\r\n",
    "  \r\n",
    "}\"\"\""
   ],
   "outputs": [],
   "metadata": {}
  },
  {
   "cell_type": "code",
   "execution_count": 128,
   "source": [
    "import json\r\n",
    "r = requests.post(URL, json={'query': query})\r\n",
    "print(r.status_code)\r\n",
    "print(r.text)\r\n",
    "json_data = json.loads(r.text)\r\n",
    "\r\n",
    "\r\n"
   ],
   "outputs": [
    {
     "output_type": "stream",
     "name": "stdout",
     "text": [
      "200\n",
      "{\"data\":{\"courts\":[{\"currentTerm\":\"189\",\"id\":\"0xfb072baa713b01ce944a0515c3e1e98170977daf\",\"termDuration\":\"28800\",\"token\":{\"id\":\"0xa117000000f279d81a1d3cc75430faa017fa5a2e\"}}]}}\n"
     ]
    }
   ],
   "metadata": {}
  },
  {
   "cell_type": "code",
   "execution_count": 130,
   "source": [
    "json_data['data']"
   ],
   "outputs": [
    {
     "output_type": "execute_result",
     "data": {
      "text/plain": [
       "{'courts': [{'currentTerm': '189',\n",
       "   'id': '0xfb072baa713b01ce944a0515c3e1e98170977daf',\n",
       "   'termDuration': '28800',\n",
       "   'token': {'id': '0xa117000000f279d81a1d3cc75430faa017fa5a2e'}}]}"
      ]
     },
     "metadata": {},
     "execution_count": 130
    }
   ],
   "metadata": {}
  },
  {
   "cell_type": "code",
   "execution_count": null,
   "source": [],
   "outputs": [],
   "metadata": {}
  }
 ],
 "metadata": {
  "orig_nbformat": 4,
  "language_info": {
   "name": "python",
   "version": "3.8.11",
   "mimetype": "text/x-python",
   "codemirror_mode": {
    "name": "ipython",
    "version": 3
   },
   "pygments_lexer": "ipython3",
   "nbconvert_exporter": "python",
   "file_extension": ".py"
  },
  "kernelspec": {
   "name": "python3",
   "display_name": "Python 3.8.11 64-bit ('aragon-parse-repos': conda)"
  },
  "interpreter": {
   "hash": "2c4e5c9398231d1495f7cc0079d9b1b96b420886005229e79ee4d6a614cc4296"
  }
 },
 "nbformat": 4,
 "nbformat_minor": 2
}