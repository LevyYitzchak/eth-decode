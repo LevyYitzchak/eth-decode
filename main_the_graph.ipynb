{
 "cells": [
  {
   "cell_type": "code",
   "execution_count": 1,
   "source": [
    "import pandas as pd\r\n",
    "import requests\r\n",
    "import json\r\n",
    "\r\n",
    "from datetime import datetime\r\n",
    "\r\n",
    "from _const import * # paths \r\n",
    "from _func import * # lambdas\r\n",
    "pd.set_option('display.max_rows', 500)"
   ],
   "outputs": [],
   "metadata": {}
  },
  {
   "cell_type": "code",
   "execution_count": 2,
   "source": [
    "datetime.utcnow().strftime(\"%Y%m%d-%H:%M:%S\")"
   ],
   "outputs": [
    {
     "output_type": "execute_result",
     "data": {
      "text/plain": [
       "'20210819-10:52:27'"
      ]
     },
     "metadata": {},
     "execution_count": 2
    }
   ],
   "metadata": {}
  },
  {
   "cell_type": "code",
   "execution_count": 3,
   "source": [
    "queries_list = PATHS.QUERIES.ls()\r\n",
    "print(queries_list)"
   ],
   "outputs": [
    {
     "output_type": "stream",
     "name": "stdout",
     "text": [
      "[WindowsPath('queries/guardians.graphql')]\n"
     ]
    }
   ],
   "metadata": {}
  },
  {
   "cell_type": "code",
   "execution_count": 4,
   "source": [
    "queries_dict = {}\r\n",
    "\r\n",
    "for q in queries_list:\r\n",
    "    q_name = q.parts[-1].split(\".\")[0]\r\n",
    "    with open(q) as f:\r\n",
    "        q_txt = f.read()\r\n",
    "    queries_dict[q_name] = q_txt"
   ],
   "outputs": [],
   "metadata": {}
  },
  {
   "cell_type": "code",
   "execution_count": 34,
   "source": [
    "responses_list = []\r\n",
    "\r\n",
    "for q_name, q_statemet in queries_dict.items():\r\n",
    "    r = requests.post(\r\n",
    "        URLS.SUBGRAPH.COURT.MAINNET,\r\n",
    "        json={'query': q_statemet})\r\n",
    "    json_data = json.loads(r.text)\r\n",
    "    len_res = len(json_data['data'][q_name])\r\n",
    "\r\n",
    "    responses_list.append((q_name, json_data))"
   ],
   "outputs": [],
   "metadata": {}
  },
  {
   "cell_type": "code",
   "execution_count": 35,
   "source": [
    "len_res"
   ],
   "outputs": [
    {
     "output_type": "execute_result",
     "data": {
      "text/plain": [
       "100"
      ]
     },
     "metadata": {},
     "execution_count": 35
    }
   ],
   "metadata": {}
  },
  {
   "cell_type": "code",
   "execution_count": 31,
   "source": [
    "len(json_data['data']['guardians'])"
   ],
   "outputs": [
    {
     "output_type": "execute_result",
     "data": {
      "text/plain": [
       "100"
      ]
     },
     "metadata": {},
     "execution_count": 31
    }
   ],
   "metadata": {}
  },
  {
   "cell_type": "code",
   "execution_count": 6,
   "source": [
    "df_guardians = pd.DataFrame(json_data['data']['guardians'])\r\n",
    "df_guardians.info()"
   ],
   "outputs": [
    {
     "output_type": "stream",
     "name": "stdout",
     "text": [
      "<class 'pandas.core.frame.DataFrame'>\n",
      "RangeIndex: 100 entries, 0 to 99\n",
      "Data columns (total 8 columns):\n",
      " #   Column                 Non-Null Count  Dtype \n",
      "---  ------                 --------------  ----- \n",
      " 0   activeBalance          100 non-null    object\n",
      " 1   availableBalance       100 non-null    object\n",
      " 2   createdAt              100 non-null    object\n",
      " 3   deactivationBalance    100 non-null    object\n",
      " 4   id                     100 non-null    object\n",
      " 5   lockedBalance          100 non-null    object\n",
      " 6   treeId                 100 non-null    object\n",
      " 7   withdrawalsLockTermId  100 non-null    object\n",
      "dtypes: object(8)\n",
      "memory usage: 6.4+ KB\n"
     ]
    }
   ],
   "metadata": {}
  },
  {
   "cell_type": "code",
   "execution_count": 7,
   "source": [
    "df_guardians.head()"
   ],
   "outputs": [
    {
     "output_type": "execute_result",
     "data": {
      "text/plain": [
       "             activeBalance availableBalance   createdAt deactivationBalance  \\\n",
       "0    880828164821533660463                0  1628932243                   0   \n",
       "1    811700000000000000000                0  1628229988                   0   \n",
       "2  33875561690053511743407                0  1628945946                   0   \n",
       "3    135421986952300156491                0  1628186705                   0   \n",
       "4   4846740038258336017978                0  1628207854                   0   \n",
       "\n",
       "                                           id lockedBalance treeId  \\\n",
       "0  0x01704865b3404391ea00137c4bb00855515df802             0     83   \n",
       "1  0x03000a0ecb1898040c26cd418570cd480775f0da             0     34   \n",
       "2  0x06b172c63730f0ccfb40ea35e726ebf4e930c9e3             0     85   \n",
       "3  0x098d9a770f3bd88bef60e72c833ab8db240d5928             0     25   \n",
       "4  0x0a3bfd31570df77c243379606ef1fca7ddd2ec74             0     29   \n",
       "\n",
       "  withdrawalsLockTermId  \n",
       "0                     0  \n",
       "1                     0  \n",
       "2                     0  \n",
       "3                     0  \n",
       "4                     0  "
      ],
      "text/html": [
       "<div>\n",
       "<style scoped>\n",
       "    .dataframe tbody tr th:only-of-type {\n",
       "        vertical-align: middle;\n",
       "    }\n",
       "\n",
       "    .dataframe tbody tr th {\n",
       "        vertical-align: top;\n",
       "    }\n",
       "\n",
       "    .dataframe thead th {\n",
       "        text-align: right;\n",
       "    }\n",
       "</style>\n",
       "<table border=\"1\" class=\"dataframe\">\n",
       "  <thead>\n",
       "    <tr style=\"text-align: right;\">\n",
       "      <th></th>\n",
       "      <th>activeBalance</th>\n",
       "      <th>availableBalance</th>\n",
       "      <th>createdAt</th>\n",
       "      <th>deactivationBalance</th>\n",
       "      <th>id</th>\n",
       "      <th>lockedBalance</th>\n",
       "      <th>treeId</th>\n",
       "      <th>withdrawalsLockTermId</th>\n",
       "    </tr>\n",
       "  </thead>\n",
       "  <tbody>\n",
       "    <tr>\n",
       "      <th>0</th>\n",
       "      <td>880828164821533660463</td>\n",
       "      <td>0</td>\n",
       "      <td>1628932243</td>\n",
       "      <td>0</td>\n",
       "      <td>0x01704865b3404391ea00137c4bb00855515df802</td>\n",
       "      <td>0</td>\n",
       "      <td>83</td>\n",
       "      <td>0</td>\n",
       "    </tr>\n",
       "    <tr>\n",
       "      <th>1</th>\n",
       "      <td>811700000000000000000</td>\n",
       "      <td>0</td>\n",
       "      <td>1628229988</td>\n",
       "      <td>0</td>\n",
       "      <td>0x03000a0ecb1898040c26cd418570cd480775f0da</td>\n",
       "      <td>0</td>\n",
       "      <td>34</td>\n",
       "      <td>0</td>\n",
       "    </tr>\n",
       "    <tr>\n",
       "      <th>2</th>\n",
       "      <td>33875561690053511743407</td>\n",
       "      <td>0</td>\n",
       "      <td>1628945946</td>\n",
       "      <td>0</td>\n",
       "      <td>0x06b172c63730f0ccfb40ea35e726ebf4e930c9e3</td>\n",
       "      <td>0</td>\n",
       "      <td>85</td>\n",
       "      <td>0</td>\n",
       "    </tr>\n",
       "    <tr>\n",
       "      <th>3</th>\n",
       "      <td>135421986952300156491</td>\n",
       "      <td>0</td>\n",
       "      <td>1628186705</td>\n",
       "      <td>0</td>\n",
       "      <td>0x098d9a770f3bd88bef60e72c833ab8db240d5928</td>\n",
       "      <td>0</td>\n",
       "      <td>25</td>\n",
       "      <td>0</td>\n",
       "    </tr>\n",
       "    <tr>\n",
       "      <th>4</th>\n",
       "      <td>4846740038258336017978</td>\n",
       "      <td>0</td>\n",
       "      <td>1628207854</td>\n",
       "      <td>0</td>\n",
       "      <td>0x0a3bfd31570df77c243379606ef1fca7ddd2ec74</td>\n",
       "      <td>0</td>\n",
       "      <td>29</td>\n",
       "      <td>0</td>\n",
       "    </tr>\n",
       "  </tbody>\n",
       "</table>\n",
       "</div>"
      ]
     },
     "metadata": {},
     "execution_count": 7
    }
   ],
   "metadata": {}
  },
  {
   "cell_type": "code",
   "execution_count": 8,
   "source": [
    "from bq import BQ_table\r\n",
    "table = BQ_table(BQ_guardians.dataset, BQ_guardians.table)"
   ],
   "outputs": [],
   "metadata": {}
  },
  {
   "cell_type": "code",
   "execution_count": 9,
   "source": [
    "table.exists"
   ],
   "outputs": [
    {
     "output_type": "execute_result",
     "data": {
      "text/plain": [
       "True"
      ]
     },
     "metadata": {},
     "execution_count": 9
    }
   ],
   "metadata": {}
  },
  {
   "cell_type": "code",
   "execution_count": 10,
   "source": [
    "if not table.exists:\r\n",
    "    table.create_table_from_df(df_guardians,\r\n",
    "    partitioned_day=True)"
   ],
   "outputs": [],
   "metadata": {}
  },
  {
   "cell_type": "code",
   "execution_count": 15,
   "source": [
    "errs = table.uplaoad_df_to_bq(df_guardians)"
   ],
   "outputs": [],
   "metadata": {}
  },
  {
   "cell_type": "code",
   "execution_count": 16,
   "source": [
    "errs"
   ],
   "outputs": [
    {
     "output_type": "execute_result",
     "data": {
      "text/plain": [
       "[]"
      ]
     },
     "metadata": {},
     "execution_count": 16
    }
   ],
   "metadata": {}
  },
  {
   "cell_type": "code",
   "execution_count": 17,
   "source": [
    "df_guardians.shape"
   ],
   "outputs": [
    {
     "output_type": "execute_result",
     "data": {
      "text/plain": [
       "(100, 8)"
      ]
     },
     "metadata": {},
     "execution_count": 17
    }
   ],
   "metadata": {}
  },
  {
   "cell_type": "code",
   "execution_count": 18,
   "source": [
    "df_guardians.head()"
   ],
   "outputs": [
    {
     "output_type": "execute_result",
     "data": {
      "text/plain": [
       "             activeBalance availableBalance   createdAt deactivationBalance  \\\n",
       "0    880828164821533660463                0  1628932243                   0   \n",
       "1    811700000000000000000                0  1628229988                   0   \n",
       "2  33875561690053511743407                0  1628945946                   0   \n",
       "3    135421986952300156491                0  1628186705                   0   \n",
       "4   4846740038258336017978                0  1628207854                   0   \n",
       "\n",
       "                                           id lockedBalance treeId  \\\n",
       "0  0x01704865b3404391ea00137c4bb00855515df802             0     83   \n",
       "1  0x03000a0ecb1898040c26cd418570cd480775f0da             0     34   \n",
       "2  0x06b172c63730f0ccfb40ea35e726ebf4e930c9e3             0     85   \n",
       "3  0x098d9a770f3bd88bef60e72c833ab8db240d5928             0     25   \n",
       "4  0x0a3bfd31570df77c243379606ef1fca7ddd2ec74             0     29   \n",
       "\n",
       "  withdrawalsLockTermId  \n",
       "0                     0  \n",
       "1                     0  \n",
       "2                     0  \n",
       "3                     0  \n",
       "4                     0  "
      ],
      "text/html": [
       "<div>\n",
       "<style scoped>\n",
       "    .dataframe tbody tr th:only-of-type {\n",
       "        vertical-align: middle;\n",
       "    }\n",
       "\n",
       "    .dataframe tbody tr th {\n",
       "        vertical-align: top;\n",
       "    }\n",
       "\n",
       "    .dataframe thead th {\n",
       "        text-align: right;\n",
       "    }\n",
       "</style>\n",
       "<table border=\"1\" class=\"dataframe\">\n",
       "  <thead>\n",
       "    <tr style=\"text-align: right;\">\n",
       "      <th></th>\n",
       "      <th>activeBalance</th>\n",
       "      <th>availableBalance</th>\n",
       "      <th>createdAt</th>\n",
       "      <th>deactivationBalance</th>\n",
       "      <th>id</th>\n",
       "      <th>lockedBalance</th>\n",
       "      <th>treeId</th>\n",
       "      <th>withdrawalsLockTermId</th>\n",
       "    </tr>\n",
       "  </thead>\n",
       "  <tbody>\n",
       "    <tr>\n",
       "      <th>0</th>\n",
       "      <td>880828164821533660463</td>\n",
       "      <td>0</td>\n",
       "      <td>1628932243</td>\n",
       "      <td>0</td>\n",
       "      <td>0x01704865b3404391ea00137c4bb00855515df802</td>\n",
       "      <td>0</td>\n",
       "      <td>83</td>\n",
       "      <td>0</td>\n",
       "    </tr>\n",
       "    <tr>\n",
       "      <th>1</th>\n",
       "      <td>811700000000000000000</td>\n",
       "      <td>0</td>\n",
       "      <td>1628229988</td>\n",
       "      <td>0</td>\n",
       "      <td>0x03000a0ecb1898040c26cd418570cd480775f0da</td>\n",
       "      <td>0</td>\n",
       "      <td>34</td>\n",
       "      <td>0</td>\n",
       "    </tr>\n",
       "    <tr>\n",
       "      <th>2</th>\n",
       "      <td>33875561690053511743407</td>\n",
       "      <td>0</td>\n",
       "      <td>1628945946</td>\n",
       "      <td>0</td>\n",
       "      <td>0x06b172c63730f0ccfb40ea35e726ebf4e930c9e3</td>\n",
       "      <td>0</td>\n",
       "      <td>85</td>\n",
       "      <td>0</td>\n",
       "    </tr>\n",
       "    <tr>\n",
       "      <th>3</th>\n",
       "      <td>135421986952300156491</td>\n",
       "      <td>0</td>\n",
       "      <td>1628186705</td>\n",
       "      <td>0</td>\n",
       "      <td>0x098d9a770f3bd88bef60e72c833ab8db240d5928</td>\n",
       "      <td>0</td>\n",
       "      <td>25</td>\n",
       "      <td>0</td>\n",
       "    </tr>\n",
       "    <tr>\n",
       "      <th>4</th>\n",
       "      <td>4846740038258336017978</td>\n",
       "      <td>0</td>\n",
       "      <td>1628207854</td>\n",
       "      <td>0</td>\n",
       "      <td>0x0a3bfd31570df77c243379606ef1fca7ddd2ec74</td>\n",
       "      <td>0</td>\n",
       "      <td>29</td>\n",
       "      <td>0</td>\n",
       "    </tr>\n",
       "  </tbody>\n",
       "</table>\n",
       "</div>"
      ]
     },
     "metadata": {},
     "execution_count": 18
    }
   ],
   "metadata": {}
  },
  {
   "cell_type": "code",
   "execution_count": 14,
   "source": [
    "# https://cloud.google.com/bigquery/docs/nested-repeated\r\n",
    "# https://cloud.google.com/bigquery/docs/reference/standard-sql/data-types"
   ],
   "outputs": [],
   "metadata": {}
  },
  {
   "cell_type": "code",
   "execution_count": 21,
   "source": [
    "df_guardians['createdAt'].str.len().value_counts()"
   ],
   "outputs": [
    {
     "output_type": "execute_result",
     "data": {
      "text/plain": [
       "10    100\n",
       "Name: createdAt, dtype: int64"
      ]
     },
     "metadata": {},
     "execution_count": 21
    }
   ],
   "metadata": {}
  },
  {
   "cell_type": "code",
   "execution_count": null,
   "source": [],
   "outputs": [],
   "metadata": {}
  }
 ],
 "metadata": {
  "orig_nbformat": 4,
  "language_info": {
   "name": "python",
   "version": "3.8.11",
   "mimetype": "text/x-python",
   "codemirror_mode": {
    "name": "ipython",
    "version": 3
   },
   "pygments_lexer": "ipython3",
   "nbconvert_exporter": "python",
   "file_extension": ".py"
  },
  "kernelspec": {
   "name": "python3",
   "display_name": "Python 3.8.11 64-bit ('aragon-parse-repos': conda)"
  },
  "interpreter": {
   "hash": "2c4e5c9398231d1495f7cc0079d9b1b96b420886005229e79ee4d6a614cc4296"
  }
 },
 "nbformat": 4,
 "nbformat_minor": 2
}