{
 "cells": [
  {
   "cell_type": "code",
   "execution_count": 1,
   "source": [
    "from _const import * # execute first to set GCP credentials"
   ],
   "outputs": [],
   "metadata": {}
  },
  {
   "cell_type": "code",
   "execution_count": 2,
   "source": [
    "import pandas as pd\r\n",
    "from datetime import datetime\r\n",
    "from bq import BQ_table\r\n",
    "from the_graph import GraphQuery\r\n",
    "from _func import * # lambdas\r\n",
    "\r\n",
    "pd.set_option('display.max_rows', 500)"
   ],
   "outputs": [],
   "metadata": {}
  },
  {
   "cell_type": "code",
   "execution_count": 3,
   "source": [
    "datetime.utcnow().strftime(\"%Y%m%d-%H:%M:%S\")"
   ],
   "outputs": [
    {
     "output_type": "execute_result",
     "data": {
      "text/plain": [
       "'20210824-12:41:18'"
      ]
     },
     "metadata": {},
     "execution_count": 3
    }
   ],
   "metadata": {}
  },
  {
   "cell_type": "code",
   "execution_count": 4,
   "source": [
    "queries_list = PATHS.QUERIES.ls()\r\n",
    "print(queries_list)"
   ],
   "outputs": [
    {
     "output_type": "stream",
     "name": "stdout",
     "text": [
      "[WindowsPath('queries/guardians.graphql')]\n"
     ]
    }
   ],
   "metadata": {}
  },
  {
   "cell_type": "code",
   "execution_count": 7,
   "source": [
    "query = GraphQuery(\r\n",
    "    queries_list[0],\r\n",
    "    URLS.SUBGRAPH.COURT.MAINNET,\r\n",
    "    query_first='1000'\r\n",
    ")"
   ],
   "outputs": [],
   "metadata": {}
  },
  {
   "cell_type": "code",
   "execution_count": 8,
   "source": [
    "data = query.post(paginate=True)"
   ],
   "outputs": [],
   "metadata": {}
  },
  {
   "cell_type": "markdown",
   "source": [],
   "metadata": {}
  },
  {
   "cell_type": "code",
   "execution_count": 9,
   "source": [
    "len(data)"
   ],
   "outputs": [
    {
     "output_type": "execute_result",
     "data": {
      "text/plain": [
       "123"
      ]
     },
     "metadata": {},
     "execution_count": 9
    }
   ],
   "metadata": {}
  },
  {
   "cell_type": "code",
   "execution_count": 18,
   "source": [
    "df_guardians = pd.DataFrame(data)\r\n",
    "df_guardians.shape"
   ],
   "outputs": [
    {
     "output_type": "execute_result",
     "data": {
      "text/plain": [
       "(123, 8)"
      ]
     },
     "metadata": {},
     "execution_count": 18
    }
   ],
   "metadata": {}
  },
  {
   "cell_type": "code",
   "execution_count": 11,
   "source": [
    "df_guardians.head()"
   ],
   "outputs": [
    {
     "output_type": "execute_result",
     "data": {
      "text/plain": [
       "             activeBalance availableBalance   createdAt deactivationBalance  \\\n",
       "0    880828164821533660463                0  1628932243                   0   \n",
       "1    811700000000000000000                0  1628229988                   0   \n",
       "2  33875561690053511743407                0  1628945946                   0   \n",
       "3    135421986952300156491                0  1628186705                   0   \n",
       "4    440000000000000084211                0  1629471323                   0   \n",
       "\n",
       "                                           id lockedBalance treeId  \\\n",
       "0  0x01704865b3404391ea00137c4bb00855515df802             0     83   \n",
       "1  0x03000a0ecb1898040c26cd418570cd480775f0da             0     34   \n",
       "2  0x06b172c63730f0ccfb40ea35e726ebf4e930c9e3             0     85   \n",
       "3  0x098d9a770f3bd88bef60e72c833ab8db240d5928             0     25   \n",
       "4  0x09fedd3fb2907449b812d8e243daa02a2f54f946             0    111   \n",
       "\n",
       "  withdrawalsLockTermId  \n",
       "0                     0  \n",
       "1                     0  \n",
       "2                     0  \n",
       "3                     0  \n",
       "4                     0  "
      ],
      "text/html": [
       "<div>\n",
       "<style scoped>\n",
       "    .dataframe tbody tr th:only-of-type {\n",
       "        vertical-align: middle;\n",
       "    }\n",
       "\n",
       "    .dataframe tbody tr th {\n",
       "        vertical-align: top;\n",
       "    }\n",
       "\n",
       "    .dataframe thead th {\n",
       "        text-align: right;\n",
       "    }\n",
       "</style>\n",
       "<table border=\"1\" class=\"dataframe\">\n",
       "  <thead>\n",
       "    <tr style=\"text-align: right;\">\n",
       "      <th></th>\n",
       "      <th>activeBalance</th>\n",
       "      <th>availableBalance</th>\n",
       "      <th>createdAt</th>\n",
       "      <th>deactivationBalance</th>\n",
       "      <th>id</th>\n",
       "      <th>lockedBalance</th>\n",
       "      <th>treeId</th>\n",
       "      <th>withdrawalsLockTermId</th>\n",
       "    </tr>\n",
       "  </thead>\n",
       "  <tbody>\n",
       "    <tr>\n",
       "      <th>0</th>\n",
       "      <td>880828164821533660463</td>\n",
       "      <td>0</td>\n",
       "      <td>1628932243</td>\n",
       "      <td>0</td>\n",
       "      <td>0x01704865b3404391ea00137c4bb00855515df802</td>\n",
       "      <td>0</td>\n",
       "      <td>83</td>\n",
       "      <td>0</td>\n",
       "    </tr>\n",
       "    <tr>\n",
       "      <th>1</th>\n",
       "      <td>811700000000000000000</td>\n",
       "      <td>0</td>\n",
       "      <td>1628229988</td>\n",
       "      <td>0</td>\n",
       "      <td>0x03000a0ecb1898040c26cd418570cd480775f0da</td>\n",
       "      <td>0</td>\n",
       "      <td>34</td>\n",
       "      <td>0</td>\n",
       "    </tr>\n",
       "    <tr>\n",
       "      <th>2</th>\n",
       "      <td>33875561690053511743407</td>\n",
       "      <td>0</td>\n",
       "      <td>1628945946</td>\n",
       "      <td>0</td>\n",
       "      <td>0x06b172c63730f0ccfb40ea35e726ebf4e930c9e3</td>\n",
       "      <td>0</td>\n",
       "      <td>85</td>\n",
       "      <td>0</td>\n",
       "    </tr>\n",
       "    <tr>\n",
       "      <th>3</th>\n",
       "      <td>135421986952300156491</td>\n",
       "      <td>0</td>\n",
       "      <td>1628186705</td>\n",
       "      <td>0</td>\n",
       "      <td>0x098d9a770f3bd88bef60e72c833ab8db240d5928</td>\n",
       "      <td>0</td>\n",
       "      <td>25</td>\n",
       "      <td>0</td>\n",
       "    </tr>\n",
       "    <tr>\n",
       "      <th>4</th>\n",
       "      <td>440000000000000084211</td>\n",
       "      <td>0</td>\n",
       "      <td>1629471323</td>\n",
       "      <td>0</td>\n",
       "      <td>0x09fedd3fb2907449b812d8e243daa02a2f54f946</td>\n",
       "      <td>0</td>\n",
       "      <td>111</td>\n",
       "      <td>0</td>\n",
       "    </tr>\n",
       "  </tbody>\n",
       "</table>\n",
       "</div>"
      ]
     },
     "metadata": {},
     "execution_count": 11
    }
   ],
   "metadata": {}
  },
  {
   "cell_type": "code",
   "execution_count": 12,
   "source": [
    "table = BQ_table(BQ_guardians.dataset, BQ_guardians.table)"
   ],
   "outputs": [],
   "metadata": {}
  },
  {
   "cell_type": "code",
   "execution_count": 13,
   "source": [
    "print(table.exists)"
   ],
   "outputs": [
    {
     "output_type": "stream",
     "name": "stdout",
     "text": [
      "True\n"
     ]
    }
   ],
   "metadata": {}
  },
  {
   "cell_type": "code",
   "execution_count": 14,
   "source": [
    "if not table.exists:\r\n",
    "    table.create_table_from_df(\r\n",
    "        df_guardians,\r\n",
    "        partitioned_day=True)"
   ],
   "outputs": [],
   "metadata": {}
  },
  {
   "cell_type": "code",
   "execution_count": 15,
   "source": [
    "errs = table.uplaoad_df_to_bq(df_guardians)"
   ],
   "outputs": [],
   "metadata": {}
  },
  {
   "cell_type": "code",
   "execution_count": 16,
   "source": [
    "errs"
   ],
   "outputs": [
    {
     "output_type": "execute_result",
     "data": {
      "text/plain": [
       "[]"
      ]
     },
     "metadata": {},
     "execution_count": 16
    }
   ],
   "metadata": {}
  }
 ],
 "metadata": {
  "orig_nbformat": 4,
  "language_info": {
   "name": "python",
   "version": "3.8.11",
   "mimetype": "text/x-python",
   "codemirror_mode": {
    "name": "ipython",
    "version": 3
   },
   "pygments_lexer": "ipython3",
   "nbconvert_exporter": "python",
   "file_extension": ".py"
  },
  "kernelspec": {
   "name": "python3",
   "display_name": "Python 3.8.11 64-bit ('aragon-parse-repos': conda)"
  },
  "interpreter": {
   "hash": "2c4e5c9398231d1495f7cc0079d9b1b96b420886005229e79ee4d6a614cc4296"
  }
 },
 "nbformat": 4,
 "nbformat_minor": 2
}